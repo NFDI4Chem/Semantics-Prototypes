{
 "cells": [
  {
   "cell_type": "markdown",
   "id": "3d6f03d0",
   "metadata": {
    "tags": [
     "outputPrepend"
    ]
   },
   "source": [
    "# Displays the Network of borrowed terms for Chemistry ontologies \n",
    "* Ontologies listed in listed in [ontologies_details.yml](ontologies_details.yml)\n",
    "* Queries made to OLS API from <https://terminology.nfdi4chem.de/> & <http://www.ebi.ac.uk/ols>\n",
    "   * OLS API documentation <https://www.ebi.ac.uk/ols/docs/api>\n",
    "* Uses [pyvis](https://pyvis.readthedocs.io/en/latest/index.html) Visualization Library"
   ]
  },
  {
   "cell_type": "code",
   "execution_count": 12,
   "id": "91714021",
   "metadata": {
    "tags": []
   },
   "outputs": [
    {
     "name": "stdout",
     "output_type": "stream",
     "text": [
      "Ontology: RXNO\n",
      "Ontology: RXNO has 901 terms\n",
      "Ontology: RXNO uses the BFO, MOP, CHEBI, RXNO, IAO, OBI ontologies\n",
      "\n",
      "********************\n",
      "\n",
      "Ontology: MOP\n",
      "Ontology: MOP has 3682 terms\n",
      "Ontology: MOP uses the BFO, MOP, CHEBI, REX, RXNO ontologies\n",
      "\n",
      "********************\n",
      "\n",
      "Ontology: CHEMINF\n",
      "Ontology: CHEMINF has 832 terms\n",
      "Ontology: CHEMINF uses the BFO, APOLLO_SV, CHEBI, GAZ, CDK, PR, UO, GO, IAO, PATO, CHEMINF, OBI ontologies\n",
      "\n",
      "********************\n",
      "\n",
      "Ontology: CHMO\n",
      "Ontology: CHMO has 3084 terms\n",
      "Ontology: CHMO uses the OBCS, BFO, CHEBI, REX, FIX, MS, CHMO, IAO, OBI ontologies\n",
      "\n",
      "********************\n",
      "\n",
      "Ontology: CHIRO\n",
      "Ontology: CHIRO has 13284 terms\n",
      "Ontology: CHIRO uses the BFO, CHEBI, ENVO, MP, HP, PR, NCBITaxon, GO, RO ontologies\n",
      "\n",
      "********************\n",
      "\n",
      "dict_keys(['RXNO', 'MOP', 'CHEMINF', 'CHMO', 'CHIRO'])\n"
     ]
    }
   ],
   "source": [
    "import requests\n",
    "import yaml\n",
    "from time import sleep\n",
    "from pprint import pprint\n",
    "\n",
    "############\n",
    "# Gathers all terms and borrowed Ontologies employed by Chemistry ontologies, listed in ontologies_details.yml\n",
    "# var chem_ontos_terms - is dictionary holding ontology terms organized by ontology id/prefix\n",
    "# var all_ontos - is dictionary where holding info on ontologies employed by chemestry ontologies, organized by ontology id/prefix\n",
    "############\n",
    "\n",
    "'''\n",
    "chem_ontos_terms structure\n",
    "\n",
    "'RXNO': { \n",
    "    'RXNO:0000563': {'id': 'RXNO:0000563',\n",
    "                    'iri': 'http://purl.obolibrary.org/obo/RXNO_0000563',\n",
    "                    'label': 'obsolete: chloro Heck-type reaction/Sandmeyer '\n",
    "                            'fluorination',\n",
    "                    'onto_prefix': 'RXNO'},\n",
    "    },\n",
    "'CHIRO': ...\n",
    "'''\n",
    "\n",
    "\n",
    "def yaml2dict(path):\n",
    "    with open(path, 'r') as yaml_f:\n",
    "        yaml_content = yaml_f.read()\n",
    "        yaml_dict = yaml.safe_load(yaml_content)\n",
    "    return yaml_dict\n",
    "\n",
    "def get_all_ontology_terms(api_url, size, page, terms):\n",
    "    '''\n",
    "    return dict with all terms of an ontology, \n",
    "    each entry with keys: iri, id, label, onto_prefix\n",
    "    '''\n",
    "    api_url_w_params = f'{api_url}?page={page}&size={size}'\n",
    "    try:\n",
    "        request = requests.get(api_url_w_params)\n",
    "    except requests.exceptions.Timeout:\n",
    "        sleep(1)\n",
    "        request = requests.get(api_url_w_params)\n",
    "    response = request.json()\n",
    "    page_numb = response['page']['number']\n",
    "    page_total  = response['page']['totalPages']\n",
    "    # print(f'Current page:{page_numb}  Total pages:{page_total}')\n",
    "    if '_embedded' in response.keys():\n",
    "        terms.update({term['obo_id']: {'iri': term['iri'], 'id': term['obo_id'], 'label': term['label'], 'onto_prefix': term['obo_id'].split(':')[0]} for term in response['_embedded']['terms'] if term['obo_id']})\n",
    "        get_all_ontology_terms(api_url=api_url, size=size, page=page+1, terms=terms)\n",
    "    return terms\n",
    "\n",
    "def get_onto_info(onto_prefix):\n",
    "    onto_api_url =  f'{tib_ols_api}ontologies/{onto_prefix}'\n",
    "    onto_request = requests.get(onto_api_url)\n",
    "    if onto_request.status_code == 404:\n",
    "        onto_api_url =  f'{ebispot_ols_api}ontologies/{onto_prefix}'\n",
    "        onto_request = requests.get(onto_api_url)\n",
    "        if onto_request.status_code == 404:\n",
    "            # print(f'No ontology info in OLS for {onto_prefix}')\n",
    "            onto_response = {}     \n",
    "        else:\n",
    "            # print(f'getting {onto_prefix} from EBISPOT OLS')\n",
    "            onto_response = onto_request.json() \n",
    "    else:\n",
    "        # print(f'getting {onto_prefix} from TIB OLS')\n",
    "        onto_response = onto_request.json() \n",
    "    return onto_response\n",
    "\n",
    "\n",
    "tib_ols_api = 'https://service.tib.eu/ts4tib/api/'\n",
    "ebispot_ols_api = 'http://www.ebi.ac.uk/ols/api/'\n",
    "chem_ontos = yaml2dict(path='ontologies_details.yml')\n",
    "chem_ontos_ids = [onto['id'].upper() for onto in chem_ontos]\n",
    "chem_ontos_terms = {}\n",
    "\n",
    "for onto in chem_ontos:\n",
    "    print(f\"Ontology: {onto['id']}\")\n",
    "    all_onto_terms = get_all_ontology_terms(api_url=f'{tib_ols_api}ontologies/{onto[\"id\"]}/terms', size=100, page=0, terms={})\n",
    "    print(f\"Ontology: {onto['id']} has {len(all_onto_terms)} terms\")\n",
    "    chem_ontos_terms[onto['id'].upper()] = all_onto_terms\n",
    "    ontos_used_in_ontos = set([v['onto_prefix'] for v in all_onto_terms.values()])\n",
    "    print(f\"Ontology: {onto['id']} uses the {', '.join(ontos_used_in_ontos)} ontologies\")\n",
    "    print(f'\\n{\"*\"*20}\\n')\n",
    "\n",
    "print(chem_ontos_terms.keys())\n",
    "\n"
   ]
  },
  {
   "cell_type": "code",
   "execution_count": 2,
   "id": "4569f634",
   "metadata": {},
   "outputs": [],
   "source": [
    "from pyvis.network import Network\n",
    "\n",
    "def draw_onto_relations(net, target_onto, options, width, height):\n",
    "    # chem_ontos_terms => onto dict\n",
    "    net.width = width\n",
    "    net.height = height\n",
    "    net.add_node(target_onto, label=target_onto, color=\"#6BFFF5\", borderWidth=0, shape=\"circle\", size=1500) # src onto\n",
    "    for onto_term_k, dest_onto_term in chem_ontos_terms[target_onto].items():\n",
    "        # add ontologies nodes\n",
    "        onto =  dest_onto_term['onto_prefix']\n",
    "        color='#ffff00'\n",
    "        net.add_node(onto, label=onto,  color=color, borderWidth=0, shape=\"circle\", size=500) # dest onto\n",
    "        if dest_onto_term['onto_prefix'] != target_onto:\n",
    "            net.add_edge(target_onto, dest_onto_term['onto_prefix'], color='#ACACAC', title=f\"{dest_onto_term['id']} - {dest_onto_term['label']}\")\n",
    "    net.set_options(options)\n",
    "    return net\n",
    "    \n",
    "graph_opts = '''\n",
    "    var options = {\n",
    "    \"interaction\": {\n",
    "        \"navigationButtons\": true\n",
    "    },\n",
    "    \"physics\": {\n",
    "        \"repulsion\": {\n",
    "        \"centralGravity\": 2.9,\n",
    "        \"springLength\": 140,\n",
    "        \"nodeDistance\": 255,\n",
    "        \"damping\": 0.08\n",
    "        },\n",
    "        \"maxVelocity\": 3,\n",
    "        \"minVelocity\": 0.13,\n",
    "        \"solver\": \"repulsion\",\n",
    "        \"timestep\": 0.48\n",
    "    },\n",
    "    \"nodes\": {\n",
    "        \"font\": {\n",
    "        \"size\": 16\n",
    "        }\n",
    "    },\n",
    "    \"edges\": {\n",
    "        \"arrows\": {\n",
    "        \"to\": {\n",
    "            \"enabled\": true,\n",
    "            \"scaleFactor\": 0\n",
    "        }\n",
    "    }\n",
    "  }\n",
    "}\n",
    "'''\n"
   ]
  },
  {
   "cell_type": "code",
   "execution_count": 5,
   "id": "4b34d7d3",
   "metadata": {
    "tags": []
   },
   "outputs": [
    {
     "data": {
      "text/html": [
       "\n",
       "        <iframe\n",
       "            width=\"1000px\"\n",
       "            height=\"750px\"\n",
       "            src=\"RXNO.html\"\n",
       "            frameborder=\"0\"\n",
       "            allowfullscreen\n",
       "        ></iframe>\n",
       "        "
      ],
      "text/plain": [
       "<IPython.lib.display.IFrame at 0x7fcf9e589eb0>"
      ]
     },
     "execution_count": 5,
     "metadata": {},
     "output_type": "execute_result"
    }
   ],
   "source": [
    "ontology = chem_ontos[0]['id']\n",
    "net = draw_onto_relations(\n",
    "    net=Network(directed=True, bgcolor='#0A0A0A', notebook=True, heading=f'{ontology} Borrowed Terms'), \n",
    "    target_onto=ontology, \n",
    "    options=graph_opts,\n",
    "    width='1000px',\n",
    "    height='750px')\n",
    "net.show(f'{ontology}.html')\n",
    "# net.save_graph(f'{target_onto}.html')\n",
    "\n"
   ]
  },
  {
   "cell_type": "code",
   "execution_count": 6,
   "id": "0e03cd78",
   "metadata": {
    "tags": []
   },
   "outputs": [
    {
     "data": {
      "text/html": [
       "\n",
       "        <iframe\n",
       "            width=\"1000px\"\n",
       "            height=\"750px\"\n",
       "            src=\"MOP.html\"\n",
       "            frameborder=\"0\"\n",
       "            allowfullscreen\n",
       "        ></iframe>\n",
       "        "
      ],
      "text/plain": [
       "<IPython.lib.display.IFrame at 0x7fcfc4014430>"
      ]
     },
     "execution_count": 6,
     "metadata": {},
     "output_type": "execute_result"
    }
   ],
   "source": [
    "ontology = chem_ontos[1]['id']\n",
    "net = draw_onto_relations(\n",
    "    net=Network(directed=True, bgcolor='#0A0A0A', notebook=True, heading=f'{ontology} Borrowed Terms'), \n",
    "    target_onto=ontology, \n",
    "    options=graph_opts,\n",
    "    width='1000px',\n",
    "    height='750px')\n",
    "net.show(f'{ontology}.html')"
   ]
  },
  {
   "cell_type": "code",
   "execution_count": 7,
   "id": "2e0792a1",
   "metadata": {},
   "outputs": [
    {
     "data": {
      "text/html": [
       "\n",
       "        <iframe\n",
       "            width=\"1000px\"\n",
       "            height=\"750px\"\n",
       "            src=\"CHEMINF.html\"\n",
       "            frameborder=\"0\"\n",
       "            allowfullscreen\n",
       "        ></iframe>\n",
       "        "
      ],
      "text/plain": [
       "<IPython.lib.display.IFrame at 0x7fcf7dcff400>"
      ]
     },
     "execution_count": 7,
     "metadata": {},
     "output_type": "execute_result"
    }
   ],
   "source": [
    "ontology = chem_ontos[2]['id']\n",
    "net = draw_onto_relations(\n",
    "    net=Network(directed=True, bgcolor='#0A0A0A', notebook=True, heading=f'{ontology} Borrowed Terms'), \n",
    "    target_onto=ontology, \n",
    "    options=graph_opts,\n",
    "    width='1000px',\n",
    "    height='750px')\n",
    "net.show(f'{ontology}.html')"
   ]
  },
  {
   "cell_type": "code",
   "execution_count": 9,
   "id": "40603b4f",
   "metadata": {},
   "outputs": [
    {
     "data": {
      "text/html": [
       "\n",
       "        <iframe\n",
       "            width=\"1000px\"\n",
       "            height=\"750px\"\n",
       "            src=\"CHMO.html\"\n",
       "            frameborder=\"0\"\n",
       "            allowfullscreen\n",
       "        ></iframe>\n",
       "        "
      ],
      "text/plain": [
       "<IPython.lib.display.IFrame at 0x7fcf9e589e50>"
      ]
     },
     "execution_count": 9,
     "metadata": {},
     "output_type": "execute_result"
    }
   ],
   "source": [
    "ontology = chem_ontos[3]['id']\n",
    "net = draw_onto_relations(\n",
    "    net=Network(directed=True, bgcolor='#0A0A0A', notebook=True, heading=f'{ontology} Borrowed Terms'), \n",
    "    target_onto=ontology, \n",
    "    options=graph_opts,\n",
    "    width='1000px',\n",
    "    height='750px')\n",
    "net.show(f'{ontology}.html')"
   ]
  },
  {
   "cell_type": "code",
   "execution_count": 10,
   "id": "3d7bdc70",
   "metadata": {},
   "outputs": [
    {
     "ename": "KeyError",
     "evalue": "'CHIRO'",
     "output_type": "error",
     "traceback": [
      "\u001b[0;31m---------------------------------------------------------------------------\u001b[0m",
      "\u001b[0;31mKeyError\u001b[0m                                  Traceback (most recent call last)",
      "\u001b[0;32m/tmp/ipykernel_23592/516983343.py\u001b[0m in \u001b[0;36m<module>\u001b[0;34m\u001b[0m\n\u001b[1;32m      1\u001b[0m \u001b[0montology\u001b[0m \u001b[0;34m=\u001b[0m \u001b[0mchem_ontos\u001b[0m\u001b[0;34m[\u001b[0m\u001b[0;36m4\u001b[0m\u001b[0;34m]\u001b[0m\u001b[0;34m[\u001b[0m\u001b[0;34m'id'\u001b[0m\u001b[0;34m]\u001b[0m\u001b[0;34m\u001b[0m\u001b[0;34m\u001b[0m\u001b[0m\n\u001b[0;32m----> 2\u001b[0;31m net = draw_onto_relations(\n\u001b[0m\u001b[1;32m      3\u001b[0m     \u001b[0mnet\u001b[0m\u001b[0;34m=\u001b[0m\u001b[0mNetwork\u001b[0m\u001b[0;34m(\u001b[0m\u001b[0mdirected\u001b[0m\u001b[0;34m=\u001b[0m\u001b[0;32mTrue\u001b[0m\u001b[0;34m,\u001b[0m \u001b[0mbgcolor\u001b[0m\u001b[0;34m=\u001b[0m\u001b[0;34m'#0A0A0A'\u001b[0m\u001b[0;34m,\u001b[0m \u001b[0mnotebook\u001b[0m\u001b[0;34m=\u001b[0m\u001b[0;32mTrue\u001b[0m\u001b[0;34m,\u001b[0m \u001b[0mheading\u001b[0m\u001b[0;34m=\u001b[0m\u001b[0;34mf'{ontology} Borrowed Terms'\u001b[0m\u001b[0;34m)\u001b[0m\u001b[0;34m,\u001b[0m\u001b[0;34m\u001b[0m\u001b[0;34m\u001b[0m\u001b[0m\n\u001b[1;32m      4\u001b[0m     \u001b[0mtarget_onto\u001b[0m\u001b[0;34m=\u001b[0m\u001b[0montology\u001b[0m\u001b[0;34m,\u001b[0m\u001b[0;34m\u001b[0m\u001b[0;34m\u001b[0m\u001b[0m\n\u001b[1;32m      5\u001b[0m     \u001b[0moptions\u001b[0m\u001b[0;34m=\u001b[0m\u001b[0mgraph_opts\u001b[0m\u001b[0;34m,\u001b[0m\u001b[0;34m\u001b[0m\u001b[0;34m\u001b[0m\u001b[0m\n",
      "\u001b[0;32m/tmp/ipykernel_23592/570504792.py\u001b[0m in \u001b[0;36mdraw_onto_relations\u001b[0;34m(net, target_onto, options, width, height)\u001b[0m\n\u001b[1;32m      6\u001b[0m     \u001b[0mnet\u001b[0m\u001b[0;34m.\u001b[0m\u001b[0mheight\u001b[0m \u001b[0;34m=\u001b[0m \u001b[0mheight\u001b[0m\u001b[0;34m\u001b[0m\u001b[0;34m\u001b[0m\u001b[0m\n\u001b[1;32m      7\u001b[0m     \u001b[0mnet\u001b[0m\u001b[0;34m.\u001b[0m\u001b[0madd_node\u001b[0m\u001b[0;34m(\u001b[0m\u001b[0mtarget_onto\u001b[0m\u001b[0;34m,\u001b[0m \u001b[0mlabel\u001b[0m\u001b[0;34m=\u001b[0m\u001b[0mtarget_onto\u001b[0m\u001b[0;34m,\u001b[0m \u001b[0mcolor\u001b[0m\u001b[0;34m=\u001b[0m\u001b[0;34m\"#6BFFF5\"\u001b[0m\u001b[0;34m,\u001b[0m \u001b[0mborderWidth\u001b[0m\u001b[0;34m=\u001b[0m\u001b[0;36m0\u001b[0m\u001b[0;34m,\u001b[0m \u001b[0mshape\u001b[0m\u001b[0;34m=\u001b[0m\u001b[0;34m\"circle\"\u001b[0m\u001b[0;34m,\u001b[0m \u001b[0msize\u001b[0m\u001b[0;34m=\u001b[0m\u001b[0;36m1500\u001b[0m\u001b[0;34m)\u001b[0m \u001b[0;31m# src onto\u001b[0m\u001b[0;34m\u001b[0m\u001b[0;34m\u001b[0m\u001b[0m\n\u001b[0;32m----> 8\u001b[0;31m     \u001b[0;32mfor\u001b[0m \u001b[0monto_term_k\u001b[0m\u001b[0;34m,\u001b[0m \u001b[0mdest_onto_term\u001b[0m \u001b[0;32min\u001b[0m \u001b[0mchem_ontos_terms\u001b[0m\u001b[0;34m[\u001b[0m\u001b[0mtarget_onto\u001b[0m\u001b[0;34m]\u001b[0m\u001b[0;34m.\u001b[0m\u001b[0mitems\u001b[0m\u001b[0;34m(\u001b[0m\u001b[0;34m)\u001b[0m\u001b[0;34m:\u001b[0m\u001b[0;34m\u001b[0m\u001b[0;34m\u001b[0m\u001b[0m\n\u001b[0m\u001b[1;32m      9\u001b[0m         \u001b[0;31m# add ontologies nodes\u001b[0m\u001b[0;34m\u001b[0m\u001b[0;34m\u001b[0m\u001b[0;34m\u001b[0m\u001b[0m\n\u001b[1;32m     10\u001b[0m         \u001b[0monto\u001b[0m \u001b[0;34m=\u001b[0m  \u001b[0mdest_onto_term\u001b[0m\u001b[0;34m[\u001b[0m\u001b[0;34m'onto_prefix'\u001b[0m\u001b[0;34m]\u001b[0m\u001b[0;34m\u001b[0m\u001b[0;34m\u001b[0m\u001b[0m\n",
      "\u001b[0;31mKeyError\u001b[0m: 'CHIRO'"
     ]
    }
   ],
   "source": [
    "ontology = chem_ontos[4]['id']\n",
    "net = draw_onto_relations(\n",
    "    net=Network(directed=True, bgcolor='#0A0A0A', notebook=True, heading=f'{ontology} Borrowed Terms'), \n",
    "    target_onto=ontology, \n",
    "    options=graph_opts,\n",
    "    width='1000px',\n",
    "    height='750px')\n",
    "net.show(f'{ontology}.html')"
   ]
  }
 ],
 "metadata": {
  "kernelspec": {
   "display_name": "Python 3 (ipykernel)",
   "language": "python",
   "name": "python3"
  },
  "language_info": {
   "codemirror_mode": {
    "name": "ipython",
    "version": 3
   },
   "file_extension": ".py",
   "mimetype": "text/x-python",
   "name": "python",
   "nbconvert_exporter": "python",
   "pygments_lexer": "ipython3",
   "version": "3.8.6"
  },
  "metadata": {
   "interpreter": {
    "hash": "58c872b6422536afb6c3016838c022361719da86c2b48d24e7dd44a981dccc3b"
   }
  }
 },
 "nbformat": 4,
 "nbformat_minor": 5
}
