{
 "cells": [
  {
   "cell_type": "markdown",
   "metadata": {},
   "source": [
    "# Jupyter Notebooks Prototypes on how to use Ontology Look-up Service API to navidate the [DFG-Fachsystematik-Ontology](https://github.com/tibonto/DFG-Fachsystematik-Ontology)\n",
    "\n",
    "## Links\n",
    "* **DFGFO at TIB Terminology Service (OLS) frontend** https://service.tib.eu/ts4tib/ontologies/dfgfo\n",
    "* **DFGFO at TIB Terminology Service (OLS) API** https://service.tib.eu/ts4tib/api/ontologies/dfgfo\n",
    "* **DFGFO root terms at TIB Terminology Service (OLS) API** https://service.tib.eu/ts4tib/api/ontologies/dfgfo/terms/roots\n",
    "\n",
    "## Notebooks\n",
    "* extract the DFGFO relations tree - so it can be used in drop-down menus to select an appropriate subject\n",
    "* given any DFGFO subject extract all its ancestors"
   ]
  },
  {
   "cell_type": "code",
   "execution_count": null,
   "metadata": {},
   "outputs": [],
   "source": [
    "import requests\n",
    "from pprint import pprint\n",
    "\n",
    "# extract the DFGFO relations tree from OLS API #\n",
    "\n",
    "tib_ols_api = 'https://service.tib.eu/ts4tib/api/'\n",
    "ontology_rootterms = tib_ols_api + 'ontologies/dfgfo/terms/roots'\n",
    "\n",
    "\n",
    "def terms_hierarchy(api_url, level):\n",
    "    # calls OLS API on ontology terms \n",
    "    # prints the terms of a given level \n",
    "    # and requests the terms children, recursively \n",
    "    apirequest = requests.get(api_url)\n",
    "    apiresponse = apirequest.json() \n",
    "    if '_embedded' in apiresponse.keys():\n",
    "        terms = apiresponse['_embedded']['terms']\n",
    "        for term in terms:\n",
    "            if term['label'] != 'CHEBI_33855':\n",
    "                ols_term_url = term['_links']['self']['href']\n",
    "                # print(ols_term_url)\n",
    "                print(f\"{' ' * level * 2}{term['label']}\")\n",
    "                if 'children' in term['_links'].keys():\n",
    "                    api_children_url = term['_links']['children']['href']\n",
    "                    terms_hierarchy(api_url=term['_links']['children']['href'], level=level+1)\n",
    "                    \n",
    "\n",
    "terms_hierarchy(api_url=ontology_rootterms, level=0)  # start from RXNO root classes\n",
    "\n"
   ]
  },
  {
   "cell_type": "code",
   "execution_count": null,
   "metadata": {},
   "outputs": [],
   "source": [
    "# given any DFGFO subject extract all its ancestors"
   ]
  }
 ],
 "metadata": {
  "language_info": {
   "name": "python"
  },
  "orig_nbformat": 4
 },
 "nbformat": 4,
 "nbformat_minor": 2
}
